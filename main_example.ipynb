{
  "cells": [
    {
      "cell_type": "code",
      "execution_count": null,
      "id": "import-cell",
      "metadata": {},
      "outputs": [],
      "source": [
        "from llm_orchestrator import LLMOrchestrator\n",
        "from llm_orchestrator.types.agents import Agent\n",
        "import asyncio"
      ]
    },
    {
      "cell_type": "code",
      "execution_count": null,
      "id": "init-orchestrator",
      "metadata": {},
      "outputs": [],
      "source": [
        "llm_orchestrator = LLMOrchestrator()\n",
        "\n",
        "async def setup_orchestrator():\n",
        "    await llm_orchestrator.register_agents([\n",
        "        Agent(\n",
        "            name=\"AgentTest\",\n",
        "            urlAgentFile=\"http://localhost:5173/test_agents/agent-test/agent.json\"\n",
        "        )\n",
        "    ])\n",
        "    await llm_orchestrator.warm_up()"
      ]
    },
    {
      "cell_type": "code",
      "execution_count": null,
      "id": "run-setup",
      "metadata": {},
      "outputs": [],
      "source": [
        "await setup_orchestrator()"
      ]
    },
    {
      "cell_type": "code",
      "execution_count": null,
      "id": "query-loop",
      "metadata": {},
      "outputs": [],
      "source": [
        "while True:\n",
        "    query = input(\"Enter your query (type 'exit' to quit): \")\n",
        "    if query == \"exit\":\n",
        "        print(\"Exiting...\")\n",
        "        break\n",
        "    response = await llm_orchestrator.invoke_query(query)\n",
        "    print(\"Response:\", response)"
      ]
    }
  ],
  "metadata": {
    "kernelspec": {
      "display_name": "Python 3 (Asyncio)",
      "language": "python",
      "name": "python3"
    },
    "language_info": {
      "name": "python",
      "version": "3.12"
    }
  },
  "nbformat": 4,
  "nbformat_minor": 5
}
